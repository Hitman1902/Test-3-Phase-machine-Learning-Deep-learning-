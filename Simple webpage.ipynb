{
 "cells": [
  {
   "cell_type": "code",
   "execution_count": 1,
   "metadata": {},
   "outputs": [
    {
     "ename": "gaierror",
     "evalue": "[Errno 11001] getaddrinfo failed",
     "output_type": "error",
     "traceback": [
      "\u001b[1;31m---------------------------------------------------------------------------\u001b[0m",
      "\u001b[1;31mgaierror\u001b[0m                                  Traceback (most recent call last)",
      "\u001b[1;32m<ipython-input-1-42e3f3955dfb>\u001b[0m in \u001b[0;36m<module>\u001b[1;34m\u001b[0m\n\u001b[0;32m      1\u001b[0m \u001b[1;32mimport\u001b[0m \u001b[0msocket\u001b[0m\u001b[1;33m\u001b[0m\u001b[1;33m\u001b[0m\u001b[0m\n\u001b[0;32m      2\u001b[0m \u001b[0mmysocket\u001b[0m\u001b[1;33m=\u001b[0m\u001b[0msocket\u001b[0m\u001b[1;33m.\u001b[0m\u001b[0msocket\u001b[0m\u001b[1;33m(\u001b[0m\u001b[1;33m)\u001b[0m\u001b[1;33m\u001b[0m\u001b[1;33m\u001b[0m\u001b[0m\n\u001b[1;32m----> 3\u001b[1;33m \u001b[0mmysocket\u001b[0m\u001b[1;33m.\u001b[0m\u001b[0mconnect\u001b[0m\u001b[1;33m(\u001b[0m\u001b[1;33m(\u001b[0m\u001b[1;34m'www.gtu.ac.in'\u001b[0m\u001b[1;33m,\u001b[0m\u001b[1;36m80\u001b[0m\u001b[1;33m)\u001b[0m\u001b[1;33m)\u001b[0m\u001b[1;33m\u001b[0m\u001b[1;33m\u001b[0m\u001b[0m\n\u001b[0m\u001b[0;32m      4\u001b[0m \u001b[0mcmd\u001b[0m\u001b[1;33m=\u001b[0m\u001b[1;34m\"GET https://www.gtu.ac.in/Circular_Acedemics.aspx HTTP/1.0\\r\\n\\r\\n\"\u001b[0m\u001b[1;33m.\u001b[0m\u001b[0mencode\u001b[0m\u001b[1;33m(\u001b[0m\u001b[1;33m)\u001b[0m\u001b[1;33m\u001b[0m\u001b[1;33m\u001b[0m\u001b[0m\n\u001b[0;32m      5\u001b[0m \u001b[0mmysocket\u001b[0m\u001b[1;33m.\u001b[0m\u001b[0msend\u001b[0m\u001b[1;33m(\u001b[0m\u001b[0mcmd\u001b[0m\u001b[1;33m)\u001b[0m\u001b[1;33m\u001b[0m\u001b[1;33m\u001b[0m\u001b[0m\n",
      "\u001b[1;31mgaierror\u001b[0m: [Errno 11001] getaddrinfo failed"
     ]
    }
   ],
   "source": [
    "import socket\n",
    "mysocket=socket.socket()\n",
    "mysocket.connect(('www.gtu.ac.in',80))\n",
    "cmd=\"GET https://www.gtu.ac.in/Circular_Acedemics.aspx HTTP/1.0\\r\\n\\r\\n\".encode()\n",
    "mysocket.send(cmd)\n",
    "while True:\n",
    "    data=mysocket.recv(512)\n",
    "    if len(data)<1:\n",
    "        break\n",
    "    print(data.decode())\n",
    "mysocket.close()"
   ]
  },
  {
   "cell_type": "code",
   "execution_count": null,
   "metadata": {},
   "outputs": [],
   "source": [
    "import socket\n",
    "def createServer():\n",
    "    serverSocket=socket.socket()\n",
    "    serverSocket.bind(('localhost',9000))\n",
    "    serverSocket.listen()\n",
    "    while(1):\n",
    "        (clientSocket,address)=serverSocket.accept()\n",
    "        rd=clientSocket.recv(5000).decode()\n",
    "        print(rd)\n",
    "        data=\"HTTP/1.1 200\""
   ]
  },
  {
   "cell_type": "code",
   "execution_count": null,
   "metadata": {},
   "outputs": [
    {
     "name": "stdout",
     "output_type": "stream",
     "text": [
      "GET / HTTP/1.1\r\n",
      "Host: localhost:9000\r\n",
      "Connection: keep-alive\r\n",
      "sec-ch-ua: \"Not/A)Brand\";v=\"8\", \"Chromium\";v=\"126\", \"Microsoft Edge\";v=\"126\"\r\n",
      "sec-ch-ua-mobile: ?0\r\n",
      "sec-ch-ua-platform: \"Windows\"\r\n",
      "Upgrade-Insecure-Requests: 1\r\n",
      "User-Agent: Mozilla/5.0 (Windows NT 10.0; Win64; x64) AppleWebKit/537.36 (KHTML, like Gecko) Chrome/126.0.0.0 Safari/537.36 Edg/126.0.0.0\r\n",
      "Accept: text/html,application/xhtml+xml,application/xml;q=0.9,image/avif,image/webp,image/apng,*/*;q=0.8,application/signed-exchange;v=b3;q=0.7\r\n",
      "Sec-Fetch-Site: none\r\n",
      "Sec-Fetch-Mode: navigate\r\n",
      "Sec-Fetch-User: ?1\r\n",
      "Sec-Fetch-Dest: document\r\n",
      "Accept-Encoding: gzip, deflate, br, zstd\r\n",
      "Accept-Language: en-US,en;q=0.9\r\n",
      "Cookie: username-localhost-8889=\"2|1:0|10:1718178255|23:username-localhost-8889|44:YzAzZjgyY2ZlMzMxNGU0NjhkNTkxNjRiMzU0ZDM3YTE=|2e90113526bc3d34b60e55715b5671491dd9de1789e1c018e0c855625515d9bc\"; _xsrf=2|7d1aa822|ff8b4c3cd41432343eaff0181035afbe|1720501088; username-localhost-8888=\"2|1:0|10:1720591825|23:username-localhost-8888|44:YWY5ZGIyYmEzZDNjNDIyZGE5MDg2NmJiYjg5OWM4YjY=|a7e8c9be256f5c0d99c723da5a76b7a6b2b6e7450db42cef00a466ae62238ef9\"\r\n",
      "\r\n",
      "\n",
      "GET /favicon.ico HTTP/1.1\r\n",
      "Host: localhost:9000\r\n",
      "Connection: keep-alive\r\n",
      "sec-ch-ua: \"Not/A)Brand\";v=\"8\", \"Chromium\";v=\"126\", \"Microsoft Edge\";v=\"126\"\r\n",
      "sec-ch-ua-mobile: ?0\r\n",
      "User-Agent: Mozilla/5.0 (Windows NT 10.0; Win64; x64) AppleWebKit/537.36 (KHTML, like Gecko) Chrome/126.0.0.0 Safari/537.36 Edg/126.0.0.0\r\n",
      "sec-ch-ua-platform: \"Windows\"\r\n",
      "Accept: image/avif,image/webp,image/apng,image/svg+xml,image/*,*/*;q=0.8\r\n",
      "Sec-Fetch-Site: same-origin\r\n",
      "Sec-Fetch-Mode: no-cors\r\n",
      "Sec-Fetch-Dest: image\r\n",
      "Referer: http://localhost:9000/\r\n",
      "Accept-Encoding: gzip, deflate, br, zstd\r\n",
      "Accept-Language: en-US,en;q=0.9\r\n",
      "Cookie: username-localhost-8889=\"2|1:0|10:1718178255|23:username-localhost-8889|44:YzAzZjgyY2ZlMzMxNGU0NjhkNTkxNjRiMzU0ZDM3YTE=|2e90113526bc3d34b60e55715b5671491dd9de1789e1c018e0c855625515d9bc\"; _xsrf=2|7d1aa822|ff8b4c3cd41432343eaff0181035afbe|1720501088; username-localhost-8888=\"2|1:0|10:1720591825|23:username-localhost-8888|44:YWY5ZGIyYmEzZDNjNDIyZGE5MDg2NmJiYjg5OWM4YjY=|a7e8c9be256f5c0d99c723da5a76b7a6b2b6e7450db42cef00a466ae62238ef9\"\r\n",
      "\r\n",
      "\n"
     ]
    }
   ],
   "source": [
    "import socket\n",
    "server_socket=socket.socket()\n",
    "server_socket.bind((\"localhost\",9000))\n",
    "server_socket.listen()\n",
    "while(1):\n",
    "    (client_socket,address)=server_socket.accept()\n",
    "    rd=client_socket.recv(5000).decode()\n",
    "    print(rd)\n",
    "    data=\"HTTP:/1.1200 ok\\r\\n\"\n",
    "    data+=\"content-type:text/html,charset=utf-8\\r\\n\"\n",
    "    data+=\"\\r\\n\"\n",
    "    data+=\"<html><body>Hello</body><html>\\r\\n\\r\\n\"\n",
    "    client_socket.send(data.encode())\n",
    "server_socket.close()\n",
    "print(\"http://localhost:9000\")"
   ]
  },
  {
   "cell_type": "code",
   "execution_count": null,
   "metadata": {},
   "outputs": [],
   "source": []
  }
 ],
 "metadata": {
  "kernelspec": {
   "display_name": "Python 3",
   "language": "python",
   "name": "python3"
  },
  "language_info": {
   "codemirror_mode": {
    "name": "ipython",
    "version": 3
   },
   "file_extension": ".py",
   "mimetype": "text/x-python",
   "name": "python",
   "nbconvert_exporter": "python",
   "pygments_lexer": "ipython3",
   "version": "3.8.5"
  }
 },
 "nbformat": 4,
 "nbformat_minor": 4
}
