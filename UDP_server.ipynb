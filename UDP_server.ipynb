{
 "cells": [
  {
   "cell_type": "code",
   "execution_count": null,
   "metadata": {},
   "outputs": [
    {
     "name": "stdout",
     "output_type": "stream",
     "text": [
      "Received:  12\n",
      "Received:  25\n"
     ]
    }
   ],
   "source": [
    "import socket\n",
    "host=socket.gethostname()\n",
    "port=21567\n",
    "server_socket=socket.socket(type=socket.SOCK_DGRAM)\n",
    "server_socket.bind((host,port))\n",
    "while True:\n",
    "    data,addr=server_socket.recvfrom(1024)\n",
    "    print('Received: ',data.decode())\n",
    "    data=int(data.decode())\n",
    "    data=data%3\n",
    "    msg=str(data)\n",
    "    server_socket.sendto(msg.encode(),addr)\n",
    "server_socket.close()"
   ]
  },
  {
   "cell_type": "code",
   "execution_count": null,
   "metadata": {},
   "outputs": [],
   "source": []
  },
  {
   "cell_type": "code",
   "execution_count": null,
   "metadata": {},
   "outputs": [],
   "source": []
  }
 ],
 "metadata": {
  "kernelspec": {
   "display_name": "Python 3",
   "language": "python",
   "name": "python3"
  },
  "language_info": {
   "codemirror_mode": {
    "name": "ipython",
    "version": 3
   },
   "file_extension": ".py",
   "mimetype": "text/x-python",
   "name": "python",
   "nbconvert_exporter": "python",
   "pygments_lexer": "ipython3",
   "version": "3.8.5"
  }
 },
 "nbformat": 4,
 "nbformat_minor": 4
}
