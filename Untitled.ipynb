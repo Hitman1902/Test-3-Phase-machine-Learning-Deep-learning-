{
 "cells": [
  {
   "cell_type": "code",
   "execution_count": 1,
   "metadata": {},
   "outputs": [
    {
     "name": "stdout",
     "output_type": "stream",
     "text": [
      "---->Hello there!\n",
      "Recv from serverHii There!\n",
      "---->Do you know me\n",
      "Recv from serverNo i don't\n",
      "---->Then why did you accept the req\n",
      "Recv from serverBecause I only see girl and I am a very big habsii\n",
      "---->Galsappa get lost tarii ma na karjee aavuu\n",
      "Recv from serverbaby why angry\n",
      "---->bye\n"
     ]
    }
   ],
   "source": [
    "import socket \n",
    "host=socket.gethostname()\n",
    "port=5000\n",
    "client_socket=socket.socket()\n",
    "client_socket.connect((host,port))\n",
    "msg=input(\"---->\")\n",
    "while msg.lower().strip()!='bye':\n",
    "    client_socket.send(msg.encode())\n",
    "    data=client_socket.recv(1024).decode()\n",
    "    print(\"Recv from server\"+data)\n",
    "    msg=input(\"---->\")\n",
    "client_socket.close()"
   ]
  },
  {
   "cell_type": "code",
   "execution_count": null,
   "metadata": {},
   "outputs": [],
   "source": []
  }
 ],
 "metadata": {
  "kernelspec": {
   "display_name": "Python 3",
   "language": "python",
   "name": "python3"
  },
  "language_info": {
   "codemirror_mode": {
    "name": "ipython",
    "version": 3
   },
   "file_extension": ".py",
   "mimetype": "text/x-python",
   "name": "python",
   "nbconvert_exporter": "python",
   "pygments_lexer": "ipython3",
   "version": "3.8.5"
  }
 },
 "nbformat": 4,
 "nbformat_minor": 4
}
